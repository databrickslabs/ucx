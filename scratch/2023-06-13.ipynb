{
 "cells": [
  {
   "cell_type": "code",
   "execution_count": 1,
   "metadata": {},
   "outputs": [],
   "source": [
    "from databricks.sdk import AccountClient\n"
   ]
  },
  {
   "cell_type": "code",
   "execution_count": 2,
   "metadata": {},
   "outputs": [
    {
     "name": "stdout",
     "output_type": "stream",
     "text": [
      "Help on class AccountClient in module databricks.sdk:\n",
      "\n",
      "class AccountClient(builtins.object)\n",
      " |  AccountClient(*, host: str = None, account_id: str = None, username: str = None, password: str = None, client_id: str = None, client_secret: str = None, token: str = None, profile: str = None, config_file: str = None, azure_workspace_resource_id: str = None, azure_client_secret: str = None, azure_client_id: str = None, azure_tenant_id: str = None, azure_environment: str = None, auth_type: str = None, cluster_id: str = None, debug_truncate_bytes: int = None, debug_headers: int = None, product='unknown', product_version='0.0.0', credentials_provider: databricks.sdk.core.CredentialsProvider = None, config: databricks.sdk.core.Config = None)\n",
      " |  \n",
      " |  Methods defined here:\n",
      " |  \n",
      " |  __init__(self, *, host: str = None, account_id: str = None, username: str = None, password: str = None, client_id: str = None, client_secret: str = None, token: str = None, profile: str = None, config_file: str = None, azure_workspace_resource_id: str = None, azure_client_secret: str = None, azure_client_id: str = None, azure_tenant_id: str = None, azure_environment: str = None, auth_type: str = None, cluster_id: str = None, debug_truncate_bytes: int = None, debug_headers: int = None, product='unknown', product_version='0.0.0', credentials_provider: databricks.sdk.core.CredentialsProvider = None, config: databricks.sdk.core.Config = None)\n",
      " |      Initialize self.  See help(type(self)) for accurate signature.\n",
      " |  \n",
      " |  ----------------------------------------------------------------------\n",
      " |  Data descriptors defined here:\n",
      " |  \n",
      " |  __dict__\n",
      " |      dictionary for instance variables (if defined)\n",
      " |  \n",
      " |  __weakref__\n",
      " |      list of weak references to the object (if defined)\n",
      "\n"
     ]
    }
   ],
   "source": [
    "help(AccountClient)"
   ]
  },
  {
   "cell_type": "code",
   "execution_count": 3,
   "metadata": {},
   "outputs": [],
   "source": [
    "a = AccountClient()"
   ]
  },
  {
   "cell_type": "code",
   "execution_count": 4,
   "metadata": {},
   "outputs": [
    {
     "ename": "DatabricksError",
     "evalue": "Endpoint not found for /2.0/accounts/None/scim/v2/Groups",
     "output_type": "error",
     "traceback": [
      "\u001b[0;31m---------------------------------------------------------------------------\u001b[0m",
      "\u001b[0;31mDatabricksError\u001b[0m                           Traceback (most recent call last)",
      "Cell \u001b[0;32mIn[4], line 1\u001b[0m\n\u001b[0;32m----> 1\u001b[0m a\u001b[39m.\u001b[39;49mgroups\u001b[39m.\u001b[39;49mlist()\n",
      "File \u001b[0;32m/opt/anaconda3/envs/uc-upgrade/lib/python3.9/site-packages/databricks/sdk/service/iam.py:848\u001b[0m, in \u001b[0;36mAccountGroupsAPI.list\u001b[0;34m(self, attributes, count, excluded_attributes, filter, sort_by, sort_order, start_index, **kwargs)\u001b[0m\n\u001b[1;32m    845\u001b[0m \u001b[39mif\u001b[39;00m sort_order: query[\u001b[39m'\u001b[39m\u001b[39msortOrder\u001b[39m\u001b[39m'\u001b[39m] \u001b[39m=\u001b[39m request\u001b[39m.\u001b[39msort_order\u001b[39m.\u001b[39mvalue\n\u001b[1;32m    846\u001b[0m \u001b[39mif\u001b[39;00m start_index: query[\u001b[39m'\u001b[39m\u001b[39mstartIndex\u001b[39m\u001b[39m'\u001b[39m] \u001b[39m=\u001b[39m request\u001b[39m.\u001b[39mstart_index\n\u001b[0;32m--> 848\u001b[0m json \u001b[39m=\u001b[39m \u001b[39mself\u001b[39;49m\u001b[39m.\u001b[39;49m_api\u001b[39m.\u001b[39;49mdo(\u001b[39m'\u001b[39;49m\u001b[39mGET\u001b[39;49m\u001b[39m'\u001b[39;49m, \u001b[39mf\u001b[39;49m\u001b[39m'\u001b[39;49m\u001b[39m/api/2.0/accounts/\u001b[39;49m\u001b[39m{\u001b[39;49;00m\u001b[39mself\u001b[39;49m\u001b[39m.\u001b[39;49m_api\u001b[39m.\u001b[39;49maccount_id\u001b[39m}\u001b[39;49;00m\u001b[39m/scim/v2/Groups\u001b[39;49m\u001b[39m'\u001b[39;49m, query\u001b[39m=\u001b[39;49mquery)\n\u001b[1;32m    849\u001b[0m \u001b[39mreturn\u001b[39;00m [Group\u001b[39m.\u001b[39mfrom_dict(v) \u001b[39mfor\u001b[39;00m v \u001b[39min\u001b[39;00m json\u001b[39m.\u001b[39mget(\u001b[39m'\u001b[39m\u001b[39mResources\u001b[39m\u001b[39m'\u001b[39m, [])]\n",
      "File \u001b[0;32m/opt/anaconda3/envs/uc-upgrade/lib/python3.9/site-packages/databricks/sdk/core.py:787\u001b[0m, in \u001b[0;36mApiClient.do\u001b[0;34m(self, method, path, query, body)\u001b[0m\n\u001b[1;32m    783\u001b[0m \u001b[39mif\u001b[39;00m \u001b[39mnot\u001b[39;00m response\u001b[39m.\u001b[39mok:\n\u001b[1;32m    784\u001b[0m     \u001b[39m# TODO: experiment with traceback pruning for better readability\u001b[39;00m\n\u001b[1;32m    785\u001b[0m     \u001b[39m# See https://stackoverflow.com/a/58821552/277035\u001b[39;00m\n\u001b[1;32m    786\u001b[0m     payload \u001b[39m=\u001b[39m response\u001b[39m.\u001b[39mjson()\n\u001b[0;32m--> 787\u001b[0m     \u001b[39mraise\u001b[39;00m \u001b[39mself\u001b[39m\u001b[39m.\u001b[39m_make_nicer_error(status_code\u001b[39m=\u001b[39mresponse\u001b[39m.\u001b[39mstatus_code, \u001b[39m*\u001b[39m\u001b[39m*\u001b[39mpayload) \u001b[39mfrom\u001b[39;00m \u001b[39mNone\u001b[39;00m\n\u001b[1;32m    788\u001b[0m \u001b[39mif\u001b[39;00m \u001b[39mnot\u001b[39;00m \u001b[39mlen\u001b[39m(response\u001b[39m.\u001b[39mcontent):\n\u001b[1;32m    789\u001b[0m     \u001b[39mreturn\u001b[39;00m {}\n",
      "\u001b[0;31mDatabricksError\u001b[0m: Endpoint not found for /2.0/accounts/None/scim/v2/Groups"
     ]
    }
   ],
   "source": [
    "a.groups.list()"
   ]
  },
  {
   "cell_type": "code",
   "execution_count": 5,
   "metadata": {},
   "outputs": [],
   "source": [
    "import os "
   ]
  },
  {
   "cell_type": "code",
   "execution_count": 6,
   "metadata": {},
   "outputs": [],
   "source": [
    "os.environ.get(\"DATABRICKS_ACCOUNT_ID\")"
   ]
  },
  {
   "cell_type": "code",
   "execution_count": null,
   "metadata": {},
   "outputs": [],
   "source": []
  }
 ],
 "metadata": {
  "kernelspec": {
   "display_name": "uc-upgrade",
   "language": "python",
   "name": "python3"
  },
  "language_info": {
   "codemirror_mode": {
    "name": "ipython",
    "version": 3
   },
   "file_extension": ".py",
   "mimetype": "text/x-python",
   "name": "python",
   "nbconvert_exporter": "python",
   "pygments_lexer": "ipython3",
   "version": "3.9.16"
  },
  "orig_nbformat": 4
 },
 "nbformat": 4,
 "nbformat_minor": 2
}
